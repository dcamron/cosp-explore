{
 "cells": [
  {
   "cell_type": "markdown",
   "metadata": {},
   "source": [
    "# COMPS II\n",
    "### A notebook for producing paper-quality figures and captions for my upcoming COMPS-II paper.\n",
    "##### Initialized by Drew Camron Sep 2018"
   ]
  },
  {
   "cell_type": "code",
   "execution_count": 1,
   "metadata": {},
   "outputs": [],
   "source": [
    "%matplotlib inline\n",
    "import os\n",
    "\n",
    "import xarray as xr\n",
    "import pandas as pd\n",
    "import numpy as np\n",
    "\n",
    "from pyresample import geometry, image\n",
    "roi=10e6    # For any radius_of_influence pyresample calculations\n",
    "\n",
    "import matplotlib.pyplot as plt\n",
    "#from matplotlib import rcParams\n",
    "import seaborn as sns\n",
    "import cartopy.crs as ccrs"
   ]
  },
  {
   "cell_type": "code",
   "execution_count": 2,
   "metadata": {},
   "outputs": [],
   "source": [
    "sns.set(context='poster', style='ticks', rc={'lines.linewidth': 5})\n",
    "#rcParams.update({'figure.autolayout': True})"
   ]
  },
  {
   "cell_type": "code",
   "execution_count": 3,
   "metadata": {},
   "outputs": [
    {
     "data": {
      "text/html": [
       "<table style=\"border: 2px solid white;\">\n",
       "<tr>\n",
       "<td style=\"vertical-align: top; border: 0px solid white\">\n",
       "<h3>Client</h3>\n",
       "<ul>\n",
       "  <li><b>Scheduler: </b>tcp://127.0.0.1:39315\n",
       "  <li><b>Dashboard: </b><a href='http://127.0.0.1:8787/status' target='_blank'>http://127.0.0.1:8787/status</a>\n",
       "</ul>\n",
       "</td>\n",
       "<td style=\"vertical-align: top; border: 0px solid white\">\n",
       "<h3>Cluster</h3>\n",
       "<ul>\n",
       "  <li><b>Workers: </b>9</li>\n",
       "  <li><b>Cores: </b>72</li>\n",
       "  <li><b>Memory: </b>134.73 GB</li>\n",
       "</ul>\n",
       "</td>\n",
       "</tr>\n",
       "</table>"
      ],
      "text/plain": [
       "<Client: scheduler='tcp://127.0.0.1:39315' processes=9 cores=72>"
      ]
     },
     "execution_count": 3,
     "metadata": {},
     "output_type": "execute_result"
    }
   ],
   "source": [
    "from dask.distributed import Client\n",
    "client = Client()\n",
    "client"
   ]
  },
  {
   "cell_type": "code",
   "execution_count": 4,
   "metadata": {},
   "outputs": [],
   "source": [
    "indir_rcp = '/glade/p/cesm/pcwg_dev/jenkay/COSP/cesm112lens/runs_LENS_n16_cosp1.4_opaq_precboth/b.e11.BRCP85C5CNBDRD.f09_g16.001_cosp1.4_opaq_prec_agl_precboth_opaq/atm/proc/tseries/month_1/'\n",
    "indir_1850 = '/glade/p/cesm/pcwg_dev/jenkay/COSP/cesm112lens/runs_LENS_n16_cosp1.4_opaq_precboth/b.e11.B1850LENS.f09_g16.001_cosp1.4_opaq_prec_agl_precboth_opaq/atm/proc/tseries/month_1/'\n",
    "indir_obs = '/glade/work/mcamron/obs/cloudsat/tristan/'\n",
    "indir_mask = '/glade/work/mcamron/gismask_RACMO23_0.9x1.25_con.nc'\n",
    "indir_topo = '/glade/work/mcamron/USGS-gtopo30_0.9x1.25_remap_c051027.nc'"
   ]
  },
  {
   "cell_type": "code",
   "execution_count": 5,
   "metadata": {},
   "outputs": [
    {
     "name": "stderr",
     "output_type": "stream",
     "text": [
      "/glade/u/home/mcamron/miniconda3/envs/cesm/lib/python3.6/site-packages/xarray/backends/api.py:783: FutureWarning: In xarray version 0.13 `auto_combine` will be deprecated.\n",
      "  coords=coords)\n",
      "/glade/u/home/mcamron/miniconda3/envs/cesm/lib/python3.6/site-packages/xarray/backends/api.py:783: FutureWarning: The datasets supplied have global dimension coordinates. You may want\n",
      "to use the new `combine_by_coords` function (or the\n",
      "`combine='by_coords'` option to `open_mfdataset` to order the datasets\n",
      "before concatenation. Alternatively, to continue concatenating based\n",
      "on the order the datasets are supplied in in future, please use the\n",
      "new `combine_nested` function (or the `combine='nested'` option to\n",
      "open_mfdataset).The datasets supplied require both concatenation and merging. From\n",
      "xarray version 0.14 this will operation will require either using the\n",
      "new `combine_nested` function (or the `combine='nested'` option to\n",
      "open_mfdataset), with a nested list structure such that you can combine\n",
      "along the dimensions None. Alternatively if your datasets have global\n",
      "dimension coordinates then you can use the new `combine_by_coords`\n",
      "function.\n",
      "  coords=coords)\n",
      "/glade/u/home/mcamron/miniconda3/envs/cesm/lib/python3.6/site-packages/xarray/backends/api.py:783: FutureWarning: In xarray version 0.13 `auto_combine` will be deprecated.\n",
      "  coords=coords)\n",
      "/glade/u/home/mcamron/miniconda3/envs/cesm/lib/python3.6/site-packages/xarray/backends/api.py:783: FutureWarning: The datasets supplied have global dimension coordinates. You may want\n",
      "to use the new `combine_by_coords` function (or the\n",
      "`combine='by_coords'` option to `open_mfdataset` to order the datasets\n",
      "before concatenation. Alternatively, to continue concatenating based\n",
      "on the order the datasets are supplied in in future, please use the\n",
      "new `combine_nested` function (or the `combine='nested'` option to\n",
      "open_mfdataset).The datasets supplied require both concatenation and merging. From\n",
      "xarray version 0.14 this will operation will require either using the\n",
      "new `combine_nested` function (or the `combine='nested'` option to\n",
      "open_mfdataset), with a nested list structure such that you can combine\n",
      "along the dimensions None. Alternatively if your datasets have global\n",
      "dimension coordinates then you can use the new `combine_by_coords`\n",
      "function.\n",
      "  coords=coords)\n",
      "/glade/u/home/mcamron/miniconda3/envs/cesm/lib/python3.6/site-packages/xarray/backends/api.py:783: FutureWarning: In xarray version 0.13 `auto_combine` will be deprecated.\n",
      "  coords=coords)\n",
      "/glade/u/home/mcamron/miniconda3/envs/cesm/lib/python3.6/site-packages/xarray/backends/api.py:783: FutureWarning: Also `open_mfdataset` will no longer accept a `concat_dim` argument.\n",
      "To get equivalent behaviour from now on please use the new\n",
      "`combine_nested` function instead (or the `combine='nested'` option to\n",
      "`open_mfdataset`).The datasets supplied do not have global dimension coordinates. In\n",
      "future, to continue concatenating without supplying dimension\n",
      "coordinates, please use the new `combine_nested` function (or the\n",
      "`combine='nested'` option to open_mfdataset.\n",
      "  coords=coords)\n"
     ]
    }
   ],
   "source": [
    "ds_vars = ['RADAR_LGTRAIN', 'RADAR_LGTRAINO', 'RADAR_RAIN', 'RADAR_RAINO', 'RADAR_LGTSNOW', 'RADAR_LGTSNOWO', 'RADAR_SNOW', 'RADAR_SNOWO', 'PRECC', 'PRECL', 'PRECSC', 'PRECSL']\n",
    "\n",
    "fn_tseries_rcp = 'b.e11.BRCP85C5CNBDRD.f09_g16.001_cosp1.4_opaq_prec_agl_precboth_opaq.cam.h0.'\n",
    "fn_tseries_1850 = 'b.e11.B1850LENS.f09_g16.001_cosp1.4_opaq_prec_agl_precboth_opaq.cam.h0.'\n",
    "fext_tseries_rcp = '.200601-209512.nc'\n",
    "fext_tseries_1850 = '.000101-010012.nc'\n",
    "\n",
    "fnames_rcp = [indir_rcp + fn_tseries_rcp + var + fext_tseries_rcp for var in ds_vars]\n",
    "fnames_1850 = [indir_1850 + fn_tseries_1850 + var + fext_tseries_1850 for var in ds_vars]\n",
    "\n",
    "obs_ls = []\n",
    "for yr in [('%02d' % a) for a in range(6, 17)]:\n",
    "    for mo in ['Jan', 'Feb', 'Mar', 'Apr', 'May', 'Jun', 'Jul', 'Aug', 'Sep', 'Oct', 'Nov', 'Dec']:\n",
    "        obs_ls = obs_ls + [indir_obs+file for file in os.listdir(indir_obs) if mo+yr in file]\n",
    "\n",
    "ds_rcp = xr.open_mfdataset(fnames_rcp, decode_times=False).sel(lat=slice(0, 90))\n",
    "newlons = [(lon - 360) if (lon > 179) else lon for lon in ds_rcp.lon.values]\n",
    "ds_rcp = ds_rcp.assign_coords(lon=newlons).roll(lon=(ds_rcp.dims['lon'] // 2), roll_coords=True)\n",
    "ds_1850 = xr.open_mfdataset(fnames_1850, decode_times=False).sel(lat=slice(0, 90))\n",
    "ds_1850 = ds_1850.assign_coords(lon=newlons).roll(lon=(ds_1850.dims['lon'] // 2), roll_coords=True)\n",
    "ds_obs = xr.open_mfdataset(obs_ls, concat_dim='time')\n",
    "\n",
    "ds_rcp['time'] = pd.date_range('2006-01', '2095-12', freq='MS')\n",
    "ds_1850['time'] = pd.date_range('2006-01', '2105-12', freq='MS')\n",
    "ds_obs['time'] = pd.date_range('2006-06', '2016-05', freq='MS')\n",
    "\n",
    "ds_obs['latitude'] = ds_obs['latitude'][0].reset_coords('time', drop=True)\n",
    "ds_obs['longitude'] = ds_obs['longitude'][0].reset_coords('time', drop=True)\n",
    "ds_obs = ds_obs.swap_dims({'nlats': 'latitude', 'nlons': 'longitude'}).sel(latitude=slice(0, 90))\n",
    "#ds_obs = ds_obs.assign_coords(longitude=(ds_obs.longitude % 360)).roll(longitude=(ds_obs.dims['longitude'] // 2))\n",
    "\n",
    "ds_mask = xr.open_dataset(indir_mask).sel(lat=slice(0, 90))\n",
    "ds_mask = ds_mask.assign_coords(lon=newlons).roll(lon=(ds_mask.dims['lon'] // 2), roll_coords=True)\n",
    "#ms = ds_mask['GrIS_mask'].where(ds_mask['GrIS_mask'] > 0)\n",
    "\n",
    "ds_topo = xr.open_dataset(indir_topo)\n",
    "ds_topo = (ds_topo\n",
    "           .sel(lat=(ds_topo['lat'] > 0))\n",
    "           .assign_coords(lat=ds_rcp['lat'])\n",
    "           .assign_coords(lon=newlons)\n",
    "           .roll(lon=(ds_topo.dims['lon'] // 2), roll_coords=True))"
   ]
  },
  {
   "cell_type": "code",
   "execution_count": 6,
   "metadata": {},
   "outputs": [],
   "source": [
    "ds_pres = (ds_rcp[ds_vars].isel(time=slice(0, 180)))\n",
    "ds_fut = (ds_rcp[ds_vars].isel(time=slice(-181, -1)))\n",
    "\n",
    "rain_pres = (\n",
    "    ds_pres['RADAR_RAIN'] + ds_pres['RADAR_LGTRAIN'])\n",
    "snow_pres = (\n",
    "    ds_pres['RADAR_SNOW'] + ds_pres['RADAR_LGTSNOW'])\n",
    "\n",
    "rain_fut = (\n",
    "    ds_fut['RADAR_RAIN'] + ds_fut['RADAR_LGTRAIN'])\n",
    "snow_fut = (\n",
    "    ds_fut['RADAR_SNOW'] + ds_fut['RADAR_LGTSNOW'])\n",
    "\n",
    "rain_obs = (\n",
    "    (ds_obs['raincounts'] + #ds_obs['heavyraincounts'] +    # heavy rain is a subset of rain certain\n",
    "     ds_obs['probablecounts'] + ds_obs['possiblecounts']) / ds_obs['counts']) * 100\n",
    "snow_obs = (\n",
    "    (ds_obs['snowcounts'] + ds_obs['snowpossiblecounts']) / ds_obs['counts']) * 100"
   ]
  },
  {
   "cell_type": "markdown",
   "metadata": {},
   "source": [
    "---\n",
    "## Figure 1\n",
    "`CLOUDSAT` sum rain frequency and sum snow frequency maps, shown annually and seasonally."
   ]
  },
  {
   "cell_type": "code",
   "execution_count": null,
   "metadata": {
    "scrolled": false
   },
   "outputs": [],
   "source": [
    "f, axes = plt.subplots(\n",
    "            nrows=2, ncols=5, figsize=(16, 9),\n",
    "            subplot_kw={'projection': ccrs.NorthPolarStereo(central_longitude=315)}\n",
    "            )\n",
    "\n",
    "seasons = ['DJF', 'MAM', 'JJA', 'SON']\n",
    "\n",
    "levels = [0, 1, 5, 10, 20, 30, 40, 50]\n",
    "colors = [(247/255, 247/255, 247/255)] \n",
    "colors += sns.color_palette('GnBu', len(levels) - 2)\n",
    "colors += [(106/255, 61/255, 154/255)]\n",
    "\n",
    "p = (snow_obs\n",
    "     .mean('time')\n",
    "     .plot.pcolormesh(\n",
    "         ax=axes[0, 0], transform=ccrs.PlateCarree(), add_colorbar=False, add_labels=False,\n",
    "         levels=levels, colors=colors)\n",
    ")\n",
    "\n",
    "for i, x in enumerate(seasons):\n",
    "    (snow_obs\n",
    "    .groupby('time.season')\n",
    "    .mean('time')\n",
    "    .sel(season=x)\n",
    "    .plot.pcolormesh(\n",
    "        ax=axes[0, i+1], transform=ccrs.PlateCarree(), add_colorbar=False, add_labels=False,\n",
    "        levels=levels, colors=colors)\n",
    "    )\n",
    "    \n",
    "\n",
    "(rain_obs\n",
    " .mean('time')\n",
    " .plot.pcolormesh(\n",
    "     ax=axes[1, 0], transform=ccrs.PlateCarree(), add_colorbar=False, add_labels=False,\n",
    "     levels=levels, colors=colors)\n",
    ")\n",
    "\n",
    "for i, x in enumerate(seasons):\n",
    "    (rain_obs\n",
    "    .groupby('time.season')\n",
    "    .mean('time')\n",
    "    .sel(season=x)\n",
    "    .plot.pcolormesh(\n",
    "        ax=axes[1, i+1], transform=ccrs.PlateCarree(), add_colorbar=False, add_labels=False,\n",
    "        levels=levels, colors=colors)\n",
    "    )\n",
    "      \n",
    "for ax in axes.flat:\n",
    "    ax.coastlines(linewidth=2)\n",
    "    ax.set_extent([295, 335, 57, 84])\n",
    "    ax.background_patch.set_facecolor('gray')\n",
    "\n",
    "#plt.tight_layout()\n",
    "    \n",
    "cb_ax = f.add_axes([0.93, 0.161, 0.025, 0.68])\n",
    "cb = f.colorbar(p, cax=cb_ax, extend='max', spacing='proportional')\n",
    "cb.ax.set_ylabel('Frequency [%]')\n",
    "    \n",
    "ts = axes[0, 0].text(-0.15, 0.5, 'Snow', fontsize=28, \n",
    "                rotation='vertical', ha='center', va='center', transform=axes[0, 0].transAxes)\n",
    "tr = axes[1, 0].text(-0.15, 0.5, 'Rain', fontsize=28,\n",
    "                rotation='vertical', ha='center', va='center', transform=axes[1, 0].transAxes)\n",
    "\n",
    "for ax, xlab in zip(axes[0, :], ['Annual', 'DJF', 'MAM', 'JJA', 'SON']):\n",
    "    ax.text(0.5, 1.03, xlab, fontsize=18, transform=ax.transAxes, ha='center', va='bottom')\n",
    "\n",
    "\n",
    "f.savefig('../figures/comps2/Figure1_mapgrid-cloudsat.png',\n",
    "         bbox_extra_artists=[ax for l in f.axes]+[ts, tr], bbox_inches='tight')"
   ]
  },
  {
   "cell_type": "markdown",
   "metadata": {},
   "source": [
    "---\n",
    "## Figure 2\n",
    "Greenland mean seasonal cycle separated by variable."
   ]
  },
  {
   "cell_type": "code",
   "execution_count": 7,
   "metadata": {},
   "outputs": [],
   "source": [
    "obs_vars = ['raincounts', 'snowcounts', 'snowpossiblecounts']\n",
    "dsetdict = {var: ds_obs[var] for var in ds_obs[obs_vars].data_vars}\n",
    "dsetdict['lgtrain'] = (ds_obs['possiblecounts'] + ds_obs['probablecounts'])\n",
    "obs_lgtrain = xr.Dataset(dsetdict)"
   ]
  },
  {
   "cell_type": "code",
   "execution_count": 8,
   "metadata": {},
   "outputs": [],
   "source": [
    "obs_mask_indir = '/glade/work/mcamron/Drew_GrIS_masks/Icemask_Topo_GrIS_CC_final.nc'\n",
    "obs_mask = xr.open_dataset(obs_mask_indir).sel(lat=slice(0, 90)).rename({'lon': 'longitude', 'lat': 'latitude'})"
   ]
  },
  {
   "cell_type": "code",
   "execution_count": 9,
   "metadata": {},
   "outputs": [],
   "source": [
    "x, y = np.meshgrid((ds_mask['lon'].values.astype('float32')), ds_mask['lat'])\n",
    "xx, yy = np.meshgrid(ds_obs['longitude'], ds_obs['latitude']) \n",
    "\n",
    "ms_grid = geometry.GridDefinition(lons=x, lats=y)\n",
    "obs_grid = geometry.GridDefinition(lons=xx, lats=yy)"
   ]
  },
  {
   "cell_type": "code",
   "execution_count": 10,
   "metadata": {},
   "outputs": [],
   "source": [
    "obs_w = ((((obs_lgtrain / ds_obs['counts']) * 100 * obs_mask['mask'].where(obs_mask['mask'] > 0) * obs_mask['cell_area'])\n",
    "          .sum('latitude').sum('longitude') / (obs_mask['mask'] * obs_mask['cell_area']).sum()))"
   ]
  },
  {
   "cell_type": "markdown",
   "metadata": {},
   "source": [
    "Some `Figure 1` area-weighted seasonal averages for manuscript."
   ]
  },
  {
   "cell_type": "code",
   "execution_count": 11,
   "metadata": {},
   "outputs": [
    {
     "name": "stdout",
     "output_type": "stream",
     "text": [
      "Rain: Annual 0.3180666392487178, [DJF, JJA, MAM, SON] [0.00537633 0.98142318 0.09199521 0.19347184]\n",
      "Snow: Annual 19.325785130011354, [DJF, JJA, MAM, SON] [20.10644938 15.61922819 19.69423326 21.88322969]\n"
     ]
    }
   ],
   "source": [
    "rain_w_seas = (obs_w['raincounts'] + obs_w['lgtrain']).groupby('time.season').mean('time', skipna=True).values\n",
    "rain_w_mean = rain_w_seas.mean()\n",
    "\n",
    "snow_w_seas = (obs_w['snowcounts'] + obs_w['snowpossiblecounts']).groupby('time.season').mean('time', skipna=True).values\n",
    "snow_w_mean = snow_w_seas.mean()\n",
    "\n",
    "print(f'Rain: Annual {rain_w_mean}, [DJF, JJA, MAM, SON] {rain_w_seas}')\n",
    "print(f'Snow: Annual {snow_w_mean}, [DJF, JJA, MAM, SON] {snow_w_seas}')"
   ]
  },
  {
   "cell_type": "code",
   "execution_count": 12,
   "metadata": {},
   "outputs": [],
   "source": [
    "obs_plotvars = ['snowcounts', 'snowpossiblecounts', 'raincounts', 'lgtrain']\n",
    "obs_vnames = ['Snow', 'Light snow', 'Rain', 'Light Rain']\n",
    "obs_lstyle = ['solid', 'dashed', 'solid', 'dashed']\n",
    "obs_colors = [2, 2, 0, 0]"
   ]
  },
  {
   "cell_type": "code",
   "execution_count": null,
   "metadata": {},
   "outputs": [],
   "source": [
    "f, ax = plt.subplots(figsize=(21, 9))\n",
    "\n",
    "for var, name, style, color in zip(obs_plotvars, obs_vnames, obs_lstyle, obs_colors):\n",
    "    (\n",
    "        obs_w[var]\n",
    "        .groupby('time.month')\n",
    "        .mean('time', skipna=True)\n",
    "        .plot(ax=ax, label=name, color=sns.color_palette('Set2')[color], linestyle=style)\n",
    "    )\n",
    "    \n",
    "ax.autoscale(enable=True)    \n",
    "\n",
    "ax.legend(loc=2, bbox_to_anchor=(0.05, 0.4), ncol=2, frameon=False)\n",
    "plt.xticks(np.arange(13), ['', 'J', 'F', 'M', 'A', 'M', 'J', 'J', 'A', 'S', 'O', 'N', 'D'])\n",
    "ax.set_ylabel('GrIS mean frequency [%]')\n",
    "ax.set_xlabel('')\n",
    "\n",
    "f.savefig('../figures/comps2/Figure2_GIS-obs-mean-cycle.png',\n",
    "          bbox_inches='tight')"
   ]
  },
  {
   "cell_type": "markdown",
   "metadata": {},
   "source": [
    "---\n",
    "## Figure 3\n",
    "Top: a distribution of precip frequencies by elevation. Bottom: distribution of total area of grids by elevation."
   ]
  },
  {
   "cell_type": "code",
   "execution_count": 13,
   "metadata": {
    "scrolled": true
   },
   "outputs": [],
   "source": [
    "model_mask_indir = '/glade/work/mcamron/Drew_GrIS_masks/Icemask_Topo_GrIS_SM_final.nc'\n",
    "model_mask = xr.open_dataset(model_mask_indir)\n",
    "model_mask = (model_mask\n",
    "              .sel(lat=(model_mask['lat'] >= 0))\n",
    "              .assign_coords(lat=ds_pres.lat)\n",
    "              .assign_coords(lon=newlons)\n",
    "              .roll(lon=(model_mask.dims['lon'] // 2), roll_coords=True)\n",
    "             )"
   ]
  },
  {
   "cell_type": "code",
   "execution_count": 14,
   "metadata": {},
   "outputs": [],
   "source": [
    "bins = np.arange(0, 3750, 250)"
   ]
  },
  {
   "cell_type": "code",
   "execution_count": 15,
   "metadata": {},
   "outputs": [],
   "source": [
    "g = 9.80665\n",
    "topo_cesm = ds_topo['PHIS'] / g"
   ]
  },
  {
   "cell_type": "markdown",
   "metadata": {},
   "source": [
    "Here is where I've messedup, going to change."
   ]
  },
  {
   "cell_type": "code",
   "execution_count": 16,
   "metadata": {},
   "outputs": [],
   "source": [
    "snow_obs_elev = ((snow_obs * obs_mask['cell_area'])\n",
    "                 .where(obs_mask['mask'] > 0)\n",
    "                 .mean('time')\n",
    "                 .groupby_bins(obs_mask['Topography'], bins, right=False)\n",
    "                 .sum(dim=xr.ALL_DIMS) / \n",
    "                 (obs_mask['cell_area'])\n",
    "                 .where(obs_mask['mask'] > 0)\n",
    "                 .groupby_bins(obs_mask['Topography'], bins, right=False)\n",
    "                 .sum(dim=xr.ALL_DIMS)\n",
    "                )\n",
    "\n",
    "rain_obs_elev = ((rain_obs * obs_mask['cell_area'])\n",
    "                 .mean('time')\n",
    "                 .where(obs_mask['mask'] > 0)\n",
    "                 .groupby_bins(obs_mask['Topography'], bins, right=False)\n",
    "                 .sum(dim=xr.ALL_DIMS) / \n",
    "                 (obs_mask['cell_area'])\n",
    "                 .where(obs_mask['mask'] > 0)\n",
    "                 .groupby_bins(obs_mask['Topography'], bins, right=False)\n",
    "                 .sum(dim=xr.ALL_DIMS)\n",
    "                )"
   ]
  },
  {
   "cell_type": "code",
   "execution_count": null,
   "metadata": {},
   "outputs": [],
   "source": [
    "f, axes = plt.subplots(2, figsize=(12, 10), sharex=True)\n",
    "\n",
    "axes[0].plot((bins[:-1]+125), snow_obs_elev, color=sns.color_palette('Set2')[2])\n",
    "\n",
    "axy = axes[0].twinx()\n",
    "axy.plot((bins[:-1]+125), rain_obs_elev, color=sns.color_palette('Set2')[0], label='CloudSat 2CPC')\n",
    "\n",
    "axes[1].plot(\n",
    "    bins[:-1]+125, (obs_mask['cell_area'].where(obs_mask['mask'] > 0).groupby_bins(obs_mask['Topography'], bins=bins, right=False).sum() / 10**6),\n",
    "    color=sns.color_palette('Set2')[1])\n",
    "\n",
    "f.subplots_adjust(hspace=0)\n",
    "\n",
    "axes[0].set_ylabel('Mean snow\\nfrequency [%]', color=sns.color_palette('Set2')[2], labelpad=33)\n",
    "axes[0].tick_params('y', colors=sns.color_palette('Set2')[2])\n",
    "#axes[0].set_ylim([11.5, 24.5])\n",
    "\n",
    "axy.set_ylabel('Mean rain\\nfrequency [%]', color=sns.color_palette('Set2')[0], labelpad=24)\n",
    "axy.tick_params('y', colors=sns.color_palette('Set2')[0])\n",
    "#axy.set_ylim([-0.5, 4.5])\n",
    "\n",
    "axes[1].set_ylabel('Grid cell area [km$^2$]', color=sns.color_palette('Set2')[1])\n",
    "axes[1].tick_params('y', colors=sns.color_palette('Set2')[1])\n",
    "axes[1].set_title('')\n",
    "axes[1].set_xlabel('Elevation [m]')\n",
    "\n",
    "f.savefig('../figures/comps2/Figure3_elev-dist-obs.png',\n",
    "         bbox_inches='tight')"
   ]
  },
  {
   "cell_type": "markdown",
   "metadata": {},
   "source": [
    "---\n",
    "## Figure 4\n",
    "`CESM present` bias maps relative to `CLOUDSAT` observations, ie as in **Figure 1** (`CESM present` - `CLOUDSAT`)."
   ]
  },
  {
   "cell_type": "code",
   "execution_count": 17,
   "metadata": {},
   "outputs": [],
   "source": [
    "snow_pres_seasonal = snow_pres.groupby('time.season').mean('time').values\n",
    "rain_pres_seasonal = rain_pres.groupby('time.season').mean('time').values\n",
    "\n",
    "snow_pres_mean = np.zeros((4, ds_obs.dims['latitude'], ds_obs.dims['longitude']))\n",
    "rain_pres_mean = np.zeros((4, ds_obs.dims['latitude'], ds_obs.dims['longitude']))\n",
    "\n",
    "for i in range(0, 4):\n",
    "    snow_pres_image = image.ImageContainerNearest(snow_pres_seasonal[i, :, :], geo_def=ms_grid, radius_of_influence=roi)\n",
    "    snow_pres_mean[i] = snow_pres_image.resample(obs_grid).image_data\n",
    "\n",
    "    rain_pres_image = image.ImageContainerNearest(rain_pres_seasonal[i, :, :], geo_def=ms_grid, radius_of_influence=roi)\n",
    "    rain_pres_mean[i] = rain_pres_image.resample(obs_grid).image_data"
   ]
  },
  {
   "cell_type": "code",
   "execution_count": null,
   "metadata": {},
   "outputs": [],
   "source": [
    "f, axes = plt.subplots(\n",
    "            nrows=2, ncols=5, figsize=(16, 9),\n",
    "            subplot_kw={'projection': ccrs.NorthPolarStereo(central_longitude=315)}\n",
    "            )\n",
    "\n",
    "seasons = ['DJF', 'MAM', 'JJA', 'SON']\n",
    "\n",
    "#vm = 20\n",
    "#levels = list(np.arange(-vm, vm+4, 4))\n",
    "#levels = [-45, -30, -15, -10, -5, -1]\n",
    "levels = [-45, -30, -20, -15, -10, -5, -1, 1, 5, 10, 15, 20, 30, 45, 60, 75]\n",
    "ticks = levels[::2]\n",
    "#levels.extend([abs(x) for x in levels[-1::-1]])\n",
    "#ticks.extend([abs(x) for x in ticks[-1::-1]])\n",
    "colors = sns.color_palette('RdBu', len(levels)+1)[2:]\n",
    "\n",
    "p = ((snow_pres_mean - snow_obs.groupby('time.season').mean('time'))\n",
    "     .mean('season')\n",
    "     .plot.pcolormesh(\n",
    "         ax=axes[0, 0], transform=ccrs.PlateCarree(), add_colorbar=False, add_labels=False,\n",
    "         levels=levels, colors=colors)\n",
    "    )\n",
    "\n",
    "for i, x in enumerate(seasons):\n",
    "    ((snow_pres_mean - snow_obs.groupby('time.season').mean('time'))\n",
    "    .sel(season=x)\n",
    "    .plot.pcolormesh(\n",
    "        ax=axes[0, i+1], transform=ccrs.PlateCarree(), add_colorbar=False, add_labels=False,\n",
    "        levels=levels, colors=colors)\n",
    "    )\n",
    "\n",
    "((rain_pres_mean - rain_obs.groupby('time.season').mean('time'))\n",
    " .mean('season')\n",
    " .plot.pcolormesh(\n",
    "     ax=axes[1, 0], transform=ccrs.PlateCarree(), add_colorbar=False, add_labels=False,\n",
    "     levels=levels, colors=colors)\n",
    ")\n",
    "\n",
    "for i, x in enumerate(seasons):\n",
    "    ((rain_pres_mean - rain_obs.groupby('time.season').mean('time'))\n",
    "    .sel(season=x)\n",
    "    .plot.pcolormesh(\n",
    "        ax=axes[1, i+1], transform=ccrs.PlateCarree(), add_colorbar=False, add_labels=False,\n",
    "        levels=levels, colors=colors)\n",
    "    )\n",
    "\n",
    "    \n",
    "for ax in axes.flat:\n",
    "    ax.coastlines(linewidth=2)\n",
    "    ax.set_extent([295, 335, 57, 84])\n",
    "    ax.background_patch.set_facecolor('gray')\n",
    "\n",
    "#plt.tight_layout()\n",
    "    \n",
    "cb_ax = f.add_axes([0.93, 0.161, 0.025, 0.68])\n",
    "cb = f.colorbar(p, cax=cb_ax, extend='neither', spacing='proportional',\n",
    "                ticks=[-45, -15, -5, 5, 15, 45, 75])\n",
    "cb.ax.set_ylabel('Frequency difference [%]')\n",
    "    \n",
    "ts = axes[0, 0].text(-0.1, 0.5, 'Snow', fontsize=28, \n",
    "                rotation='vertical', ha='center', va='center', transform=axes[0, 0].transAxes)\n",
    "tr = axes[1, 0].text(-0.1, 0.5, 'Rain', fontsize=28,\n",
    "                rotation='vertical', ha='center', va='center', transform=axes[1, 0].transAxes)\n",
    "\n",
    "for ax, xlab in zip(axes[0, :], ['Annual', 'DJF', 'MAM', 'JJA', 'SON']):\n",
    "    ax.text(0.5, 1.03, xlab, fontsize=18, transform=ax.transAxes, ha='center', va='bottom')\n",
    "\n",
    "f.savefig('../figures/comps2/Figure4_mapgrid-cesm-pres.png',\n",
    "         bbox_extra_artists=[ax for l in f.axes]+[ts, tr], bbox_inches='tight')"
   ]
  },
  {
   "cell_type": "markdown",
   "metadata": {},
   "source": [
    "---\n",
    "## Figure 5\n",
    "CESM 1 `present` mean seasonal cycle, ie as in **Figure 2**."
   ]
  },
  {
   "cell_type": "code",
   "execution_count": 18,
   "metadata": {},
   "outputs": [],
   "source": [
    "model_vars = ['RADAR_RAIN', 'RADAR_LGTRAIN', 'RADAR_SNOW', 'RADAR_LGTSNOW']"
   ]
  },
  {
   "cell_type": "code",
   "execution_count": null,
   "metadata": {
    "scrolled": false
   },
   "outputs": [],
   "source": [
    "f, ax = plt.subplots(figsize=(21, 9))\n",
    "\n",
    "model_vnames = ['Rain', 'Light rain', 'Snow', 'Light snow']\n",
    "model_lstyle = ['solid', 'dashed', 'solid', 'dashed']\n",
    "model_colors = [0, 0, 2, 2]\n",
    "for var, name, style, color in zip(model_vars, model_vnames, model_lstyle, model_colors):\n",
    "    ((\n",
    "        (ds_pres[var] * model_mask['mask'].where(model_mask['mask'] > 0) * model_mask['cell_area'])\n",
    "        .sum('lat').sum('lon') / (model_mask['mask'] * model_mask['cell_area']).sum())\n",
    "        .groupby('time.month')\n",
    "        .mean('time', skipna=True)\n",
    "        .plot(ax=ax, label=name, color=sns.color_palette('Set2')[color], linestyle=style)\n",
    "    )\n",
    "    \n",
    "ax.autoscale(enable=True)    \n",
    "\n",
    "ax.legend(loc=2, bbox_to_anchor=(0.065, 0.45), ncol=2, frameon=False)\n",
    "plt.xticks(np.arange(13), ['', 'J', 'F', 'M', 'A', 'M', 'J', 'J', 'A', 'S', 'O', 'N', 'D'])\n",
    "ax.set_ylabel('GrIS mean frequency [%]')\n",
    "ax.set_xlabel('')\n",
    "\n",
    "f.savefig('../figures/comps2/Figure5_GIS-pres-mean-cycle.png', bbox_inches='tight')"
   ]
  },
  {
   "cell_type": "markdown",
   "metadata": {},
   "source": [
    "---\n",
    "## Figure 6\n",
    "CESM frequency vs accumulation."
   ]
  },
  {
   "cell_type": "code",
   "execution_count": 19,
   "metadata": {},
   "outputs": [],
   "source": [
    "#precvars = [var for var in ds_pres.data_vars if 'PREC' in var]\n",
    "precvars = ['PRECL', 'PRECSL']\n",
    "radarvars = [var for var in ds_pres.data_vars if 'RADAR' in var if 'RAINO' not in var if 'SNOWO' not in var if '_RAIN' not in var]"
   ]
  },
  {
   "cell_type": "code",
   "execution_count": 20,
   "metadata": {},
   "outputs": [],
   "source": [
    "# Converting PREC* vars from m/s to mm/day\n",
    "ds_fig6 = xr.merge([(ds_pres[precvars] * 1000 * 86400), \n",
    "                    ds_pres[radarvars]])"
   ]
  },
  {
   "cell_type": "code",
   "execution_count": 21,
   "metadata": {
    "scrolled": true
   },
   "outputs": [],
   "source": [
    "df_fig6 = ds_fig6.where((model_mask['mask'] > 0), drop=True).mean('time').to_dataframe().reset_index().dropna()"
   ]
  },
  {
   "cell_type": "code",
   "execution_count": 22,
   "metadata": {},
   "outputs": [
    {
     "data": {
      "text/plain": [
       "<xarray.Dataset>\n",
       "Dimensions:        (lat: 96, lon: 288, time: 180)\n",
       "Coordinates:\n",
       "  * lat            (lat) float64 0.4712 1.414 2.356 3.298 ... 88.12 89.06 90.0\n",
       "  * lon            (lon) float64 -180.0 -178.8 -177.5 ... 176.2 177.5 178.8\n",
       "  * time           (time) datetime64[ns] 2006-01-01 2006-02-01 ... 2020-12-01\n",
       "Data variables:\n",
       "    PRECL          (time, lat, lon) float64 dask.array<shape=(180, 96, 288), chunksize=(180, 96, 288)>\n",
       "    PRECSL         (time, lat, lon) float64 dask.array<shape=(180, 96, 288), chunksize=(180, 96, 288)>\n",
       "    RADAR_LGTRAIN  (time, lat, lon) float64 dask.array<shape=(180, 96, 288), chunksize=(180, 96, 288)>\n",
       "    RADAR_LGTSNOW  (time, lat, lon) float64 dask.array<shape=(180, 96, 288), chunksize=(180, 96, 288)>\n",
       "    RADAR_SNOW     (time, lat, lon) float64 dask.array<shape=(180, 96, 288), chunksize=(180, 96, 288)>"
      ]
     },
     "execution_count": 22,
     "metadata": {},
     "output_type": "execute_result"
    }
   ],
   "source": [
    "ds_fig6"
   ]
  },
  {
   "cell_type": "code",
   "execution_count": 23,
   "metadata": {},
   "outputs": [
    {
     "data": {
      "text/plain": [
       "['PRECC', 'PRECL', 'PRECSC', 'PRECSL']"
      ]
     },
     "execution_count": 23,
     "metadata": {},
     "output_type": "execute_result"
    }
   ],
   "source": [
    "[var for var in ds_pres.data_vars if 'PREC' in var]"
   ]
  },
  {
   "cell_type": "code",
   "execution_count": 24,
   "metadata": {},
   "outputs": [
    {
     "data": {
      "text/plain": [
       "(['PRECL', 'PRECSL'], ['RADAR_LGTRAIN', 'RADAR_LGTSNOW', 'RADAR_SNOW'])"
      ]
     },
     "execution_count": 24,
     "metadata": {},
     "output_type": "execute_result"
    }
   ],
   "source": [
    "list(precvars), list(radarvars)"
   ]
  },
  {
   "cell_type": "code",
   "execution_count": null,
   "metadata": {
    "scrolled": false
   },
   "outputs": [],
   "source": [
    "f, axes = plt.subplots(len(radarvars), len(precvars), figsize=(24, 24), sharex=True, sharey=True)\n",
    "\n",
    "for iy, y in enumerate(radarvars):\n",
    "    for ix, x in enumerate(precvars):\n",
    "        sns.regplot(x=x, y=y, data=df_fig6, ax=axes[iy, ix], logx=True)\n",
    "        \n",
    "for ax in axes.flat:\n",
    "    ax.set_ylabel('')\n",
    "    ax.set_xlabel('')\n",
    "    ax.set_ylim([-4, 44])\n",
    "    \n",
    "for i, x in enumerate(precvars):\n",
    "    axes[-1, i].set_xlabel(x+' [mm/day]')\n",
    "    \n",
    "for i, y in enumerate(radarvars):\n",
    "    axes[i, 0].set_ylabel(y+' [%]')\n",
    "    \n",
    "f.tight_layout()\n",
    "f.savefig('../figures/comps2/Figure6_freq-accum-scatter.png', bbox_inches='tight')"
   ]
  },
  {
   "cell_type": "markdown",
   "metadata": {},
   "source": [
    "### Spacial correlations"
   ]
  },
  {
   "cell_type": "raw",
   "metadata": {},
   "source": [
    "#### ds_stacked = ds_fig6.stack(gridcell=['lon', 'lat'])\n",
    "ds_stacked.groupby('gridcell')"
   ]
  },
  {
   "cell_type": "markdown",
   "metadata": {},
   "source": [
    "---\n",
    "## Figure 7\n",
    "`CESM present` and `future` elevation distrubtions as in **Figure 3**."
   ]
  },
  {
   "cell_type": "code",
   "execution_count": 26,
   "metadata": {},
   "outputs": [],
   "source": [
    "snow_pres_elev = ((snow_pres * model_mask['cell_area'])\n",
    "                 .where(model_mask['mask'] > 0)\n",
    "                 .mean('time')\n",
    "                 .groupby_bins(model_mask['Topography'], bins, right=False)\n",
    "                 .sum(dim=xr.ALL_DIMS) / \n",
    "                 (model_mask['cell_area'])\n",
    "                 .where(model_mask['mask'] > 0)\n",
    "                 .groupby_bins(model_mask['Topography'], bins, right=False)\n",
    "                 .sum(dim=xr.ALL_DIMS)\n",
    "                )\n",
    "\n",
    "rain_pres_elev = ((rain_pres * model_mask['cell_area'])\n",
    "                 .mean('time')\n",
    "                 .where(model_mask['mask'] > 0)\n",
    "                 .groupby_bins(model_mask['Topography'], bins, right=False)\n",
    "                 .sum(dim=xr.ALL_DIMS) / \n",
    "                 (model_mask['cell_area'])\n",
    "                 .where(model_mask['mask'] > 0)\n",
    "                 .groupby_bins(model_mask['Topography'], bins, right=False)\n",
    "                 .sum(dim=xr.ALL_DIMS)\n",
    "                )"
   ]
  },
  {
   "cell_type": "code",
   "execution_count": null,
   "metadata": {},
   "outputs": [],
   "source": [
    "f, axes = plt.subplots(2, figsize=(12, 10), sharex=True)\n",
    "\n",
    "axes[0].plot((bins[:-1]+125), snow_obs_elev, color='k', label='CloudSat 2CPC', linestyle='dashed')\n",
    "axes[0].plot((bins[:-1]+125), snow_pres_elev, color='k', label='CESM present')\n",
    "\n",
    "axes[0].plot((bins[:-1]+125), snow_obs_elev, color=sns.color_palette('Set2')[2], linestyle='dashed')\n",
    "axes[0].plot((bins[:-1]+125), snow_pres_elev, color=sns.color_palette('Set2')[2])\n",
    "\n",
    "axy = axes[0].twinx()\n",
    "axy.plot((bins[:-1]+125), rain_obs_elev, color=sns.color_palette('Set2')[0], label='CloudSat 2CPC', linestyle='dashed')\n",
    "axy.plot((bins[:-1]+125), rain_pres_elev, color=sns.color_palette('Set2')[0], label='CESM present')\n",
    "\n",
    "\n",
    "axes[1].plot(\n",
    "    bins[:-1]+125, (obs_mask['cell_area'].where(obs_mask['mask'] > 0).groupby_bins(obs_mask['Topography'], bins=bins, right=False).sum() / 10**6),\n",
    "    color=sns.color_palette('Set2')[1], linestyle='dashed')\n",
    "\n",
    "axes[1].plot(\n",
    "    bins[:-1]+125, (model_mask['cell_area'].where(model_mask['mask'] > 0).groupby_bins(model_mask['Topography'], bins=bins, right=False).sum() / 10**6),\n",
    "    color=sns.color_palette('Set2')[1])\n",
    "\n",
    "f.subplots_adjust(hspace=0)\n",
    "\n",
    "axes[0].legend(loc='center right')\n",
    "axes[0].set_ylabel('Mean snow\\nfrequency [%]', color=sns.color_palette('Set2')[2], labelpad=33)\n",
    "axes[0].tick_params('y', colors=sns.color_palette('Set2')[2])\n",
    "#axes[0].set_ylim([11.5, 24.5])\n",
    "\n",
    "axy.set_ylabel('Mean rain\\nfrequency [%]', color=sns.color_palette('Set2')[0], labelpad=24)\n",
    "axy.tick_params('y', colors=sns.color_palette('Set2')[0])\n",
    "#axy.set_ylim([-0.5, 4.5])\n",
    "\n",
    "axes[1].set_ylabel('Grid cell area [km$^2$]', color=sns.color_palette('Set2')[1])\n",
    "axes[1].tick_params('y', colors=sns.color_palette('Set2')[1])\n",
    "axes[1].set_title('')\n",
    "\n",
    "f.savefig('../figures/comps2/Figure7_elev-dist-presobs.png', bbox_inches='tight')"
   ]
  },
  {
   "cell_type": "code",
   "execution_count": 27,
   "metadata": {},
   "outputs": [],
   "source": [
    "snow_fut_elev = ((snow_fut * model_mask['cell_area'])\n",
    "                 .where(model_mask['mask'] > 0)\n",
    "                 .mean('time')\n",
    "                 .groupby_bins(model_mask['Topography'], bins, right=False)\n",
    "                 .sum(dim=xr.ALL_DIMS) / \n",
    "                 (model_mask['cell_area'])\n",
    "                 .where(model_mask['mask'] > 0)\n",
    "                 .groupby_bins(model_mask['Topography'], bins, right=False)\n",
    "                 .sum(dim=xr.ALL_DIMS)\n",
    "                )\n",
    "\n",
    "rain_fut_elev = ((rain_fut * model_mask['cell_area'])\n",
    "                 .mean('time')\n",
    "                 .where(model_mask['mask'] > 0)\n",
    "                 .groupby_bins(model_mask['Topography'], bins, right=False)\n",
    "                 .sum(dim=xr.ALL_DIMS) / \n",
    "                 (model_mask['cell_area'])\n",
    "                 .where(model_mask['mask'] > 0)\n",
    "                 .groupby_bins(model_mask['Topography'], bins, right=False)\n",
    "                 .sum(dim=xr.ALL_DIMS)\n",
    "                )"
   ]
  },
  {
   "cell_type": "code",
   "execution_count": null,
   "metadata": {},
   "outputs": [],
   "source": [
    "f, axes = plt.subplots(2, figsize=(12, 10), sharex=True)\n",
    "\n",
    "axes[0].plot((bins[:-1]+125), snow_pres_elev, color='k', label='CESM present', linestyle='dashed')\n",
    "axes[0].plot((bins[:-1]+125), snow_fut_elev, color='k', label='CESM future')\n",
    "\n",
    "axes[0].plot((bins[:-1]+125), snow_pres_elev, color=sns.color_palette('Set2')[2], linestyle='dashed')\n",
    "axes[0].plot((bins[:-1]+125), snow_fut_elev, color=sns.color_palette('Set2')[2])\n",
    "\n",
    "axy = axes[0].twinx()\n",
    "axy.plot((bins[:-1]+125), rain_pres_elev, color=sns.color_palette('Set2')[0], label='CESM present', linestyle='dashed')\n",
    "axy.plot((bins[:-1]+125), rain_fut_elev, color=sns.color_palette('Set2')[0], label='CESM future')\n",
    "\n",
    "axes[1].plot(\n",
    "    bins[:-1]+125, (model_mask['cell_area'].where(model_mask['mask'] > 0).groupby_bins(model_mask['Topography'], bins=bins, right=False).sum() / 10**6),\n",
    "    color=sns.color_palette('Set2')[1])\n",
    "\n",
    "f.subplots_adjust(hspace=0)\n",
    "\n",
    "axes[0].legend(loc='center right')\n",
    "axes[0].set_ylabel('Mean snow\\nfrequency [%]', color=sns.color_palette('Set2')[2], labelpad=33)\n",
    "axes[0].tick_params('y', colors=sns.color_palette('Set2')[2])\n",
    "#axes[0].set_ylim([11.5, 24.5])\n",
    "\n",
    "axy.set_ylabel('Mean rain\\nfrequency [%]', color=sns.color_palette('Set2')[0], labelpad=24)\n",
    "axy.tick_params('y', colors=sns.color_palette('Set2')[0])\n",
    "#axy.set_ylim([-0.5, 4.5])\n",
    "\n",
    "axes[1].set_ylabel('Grid cell area [km$^2$]', color=sns.color_palette('Set2')[1])\n",
    "axes[1].tick_params('y', colors=sns.color_palette('Set2')[1])\n",
    "axes[1].set_title('')\n",
    "\n",
    "f.savefig('../figures/comps2/Figure7_elev-dist-futpres.png', bbox_inches='tight')"
   ]
  },
  {
   "cell_type": "markdown",
   "metadata": {},
   "source": [
    "---\n",
    "## Figure 8\n",
    "`CESM future` - `present` bias maps, annual only."
   ]
  },
  {
   "cell_type": "code",
   "execution_count": null,
   "metadata": {},
   "outputs": [],
   "source": [
    "f, axes = plt.subplots(\n",
    "            nrows=2, ncols=5, figsize=(16, 9),\n",
    "            subplot_kw={'projection': ccrs.NorthPolarStereo(central_longitude=315)}\n",
    "            )\n",
    "\n",
    "seasons = ['DJF', 'MAM', 'JJA', 'SON']\n",
    "\n",
    "levels = [-45, -30, -20, -15, -10, -5, -1, 1, 5, 10, 15, 20, 30, 45, 60, 75]\n",
    "ticks = levels[::2]\n",
    "colors = sns.color_palette('RdBu', len(levels)+1)[2:]\n",
    "\n",
    "p = ((snow_fut.groupby('time.season').mean('time') - snow_pres.groupby('time.season').mean('time'))\n",
    "     .mean('season')\n",
    "     .plot.pcolormesh(\n",
    "         ax=axes[0, 0], transform=ccrs.PlateCarree(), add_colorbar=False, add_labels=False,\n",
    "         levels=levels, colors=colors)\n",
    "    )\n",
    "\n",
    "for i, x in enumerate(seasons):\n",
    "    ((snow_fut.groupby('time.season').mean('time') - snow_pres.groupby('time.season').mean('time'))\n",
    "     .sel(season=x)\n",
    "     .plot.pcolormesh(\n",
    "        ax=axes[0, i+1], transform=ccrs.PlateCarree(), add_colorbar=False, add_labels=False,\n",
    "        levels=levels, colors=colors)\n",
    "    )\n",
    "\n",
    "((rain_fut.groupby('time.season').mean('time') - rain_pres.groupby('time.season').mean('time'))\n",
    " .mean('season')\n",
    " .plot.pcolormesh(\n",
    "     ax=axes[1, 0], transform=ccrs.PlateCarree(), add_colorbar=False, add_labels=False,\n",
    "     levels=levels, colors=colors)\n",
    ")\n",
    "\n",
    "for i, x in enumerate(seasons):\n",
    "    ((rain_fut.groupby('time.season').mean('time') - rain_pres.groupby('time.season').mean('time'))\n",
    "     .sel(season=x)\n",
    "     .plot.pcolormesh(\n",
    "        ax=axes[1, i+1], transform=ccrs.PlateCarree(), add_colorbar=False, add_labels=False,\n",
    "        levels=levels, colors=colors)\n",
    "    )\n",
    "\n",
    "    \n",
    "for ax in axes.flat:\n",
    "    ax.coastlines(linewidth=2)\n",
    "    ax.set_extent([295, 335, 57, 84])\n",
    "    ax.background_patch.set_facecolor('gray')\n",
    "\n",
    "#plt.tight_layout()\n",
    "    \n",
    "cb_ax = f.add_axes([0.93, 0.161, 0.025, 0.68])\n",
    "cb = f.colorbar(p, cax=cb_ax, extend='neither', spacing='proportional',\n",
    "                ticks=[-45, -15, -5, 5, 15, 45, 75])\n",
    "cb.ax.set_ylabel('Frequency difference [%]')\n",
    "    \n",
    "ts = axes[0, 0].text(-0.1, 0.5, 'Snow', fontsize=28, \n",
    "                rotation='vertical', ha='center', va='center', transform=axes[0, 0].transAxes)\n",
    "tr = axes[1, 0].text(-0.1, 0.5, 'Rain', fontsize=28,\n",
    "                rotation='vertical', ha='center', va='center', transform=axes[1, 0].transAxes)\n",
    "\n",
    "for ax, xlab in zip(axes[0, :], ['Annual', 'DJF', 'MAM', 'JJA', 'SON']):\n",
    "    ax.text(0.5, 1.03, xlab, fontsize=18, transform=ax.transAxes, ha='center', va='bottom')\n",
    "\n",
    "\n",
    "f.savefig('../figures/comps2/Figure8_mapgrid-cesm-pres.png',\n",
    "         bbox_extra_artists=[ax for l in f.axes]+[ts, tr], bbox_inches='tight')"
   ]
  },
  {
   "cell_type": "markdown",
   "metadata": {},
   "source": [
    "---\n",
    "## Figure 9\n",
    "`CESM future` - `present` seasonal cycle change."
   ]
  },
  {
   "cell_type": "code",
   "execution_count": 28,
   "metadata": {},
   "outputs": [],
   "source": [
    "model_vars = ['RADAR_RAIN', 'RADAR_LGTRAIN', 'RADAR_SNOW', 'RADAR_LGTSNOW']\n",
    "model_vnames = ['Rain', 'Light rain', 'Snow', 'Light snow']\n",
    "model_lstyle = ['solid', 'dashed', 'solid', 'dashed']\n",
    "model_colors = [0, 0, 2, 2]"
   ]
  },
  {
   "cell_type": "code",
   "execution_count": null,
   "metadata": {},
   "outputs": [],
   "source": [
    "f, ax = plt.subplots(figsize=(21, 9))\n",
    "\n",
    "for var, name, style, color in zip(model_vars, model_vnames, model_lstyle, model_colors):\n",
    "    (((((ds_fut[var] * model_mask['cell_area']).where(model_mask['mask'] > 0).sum('lat').sum('lon') /\n",
    "        model_mask['cell_area'].where(model_mask['mask'] > 0).sum()).groupby('time.month').mean('time')) - \n",
    "      (((ds_pres[var] * model_mask['cell_area']).where(model_mask['mask'] > 0).sum('lat').sum('lon') /\n",
    "        model_mask['cell_area'].where(model_mask['mask'] > 0).sum()).groupby('time.month').mean('time')))\n",
    "     .plot(ax=ax, label=name, color=sns.color_palette('Set2')[color], linestyle=style)\n",
    "    )\n",
    "    \n",
    "ax.autoscale(enable=True)    \n",
    "\n",
    "ax.legend(loc='upper left', ncol=2, frameon=False)\n",
    "plt.xticks(np.arange(13), ['', 'J', 'F', 'M', 'A', 'M', 'J', 'J', 'A', 'S', 'O', 'N', 'D'])\n",
    "ax.set_ylabel('GrIS mean frequency difference [%]')\n",
    "ax.set_xlabel('')\n",
    "\n",
    "f.savefig('../figures/comps2/Figure9_GIS-futurebias-mean-cycle.png', bbox_inches='tight')"
   ]
  },
  {
   "cell_type": "markdown",
   "metadata": {},
   "source": [
    "---\n",
    "## Figure 10\n",
    "Time of emergence."
   ]
  },
  {
   "cell_type": "raw",
   "metadata": {},
   "source": [
    "df_fig10_rcp = (\n",
    "    (ds_rcp[model_vars].where((model_mask['mask'] > 0)) * model_mask['cell_area']).sum('lat').sum('lon') /\n",
    "    model_mask['cell_area'].where(model_mask['mask'] > 0).sum()).to_dataframe()\n",
    "\n",
    "df_fig10_ctl = (\n",
    "    (ds_1850[model_vars].where((model_mask['mask'] > 0)) * model_mask['cell_area']).sum('lat').sum('lon') /\n",
    "    model_mask['cell_area'].where(model_mask['mask'] > 0).sum()).to_dataframe()"
   ]
  },
  {
   "cell_type": "raw",
   "metadata": {},
   "source": [
    "window = 60\n",
    "win_type = 'boxcar'\n",
    "rcp = df_fig10_rcp.rolling(window, center=True, win_type=win_type).mean()\n",
    "ctl = df_fig10_ctl.rolling(window, center=True, win_type=win_type).mean()"
   ]
  },
  {
   "cell_type": "raw",
   "metadata": {},
   "source": [
    "with sns.axes_style(style='whitegrid'):\n",
    "    f, axes = plt.subplots(3, figsize=(21, 27))\n",
    "    for i, var in enumerate(['RADAR_SNOW', 'RADAR_LGTSNOW', 'RADAR_LGTRAIN']):\n",
    "        sns.lineplot(ax=axes[i], x='time', y=var, data=rcp.reset_index())\n",
    "        sns.lineplot(ax=axes[i], x='time', y=var, data=ctl.reset_index())"
   ]
  },
  {
   "cell_type": "markdown",
   "metadata": {},
   "source": [
    "---\n",
    "## Supplemental"
   ]
  },
  {
   "cell_type": "markdown",
   "metadata": {},
   "source": [
    "### Supp to Fig 1\n",
    "Breaking down precip maps by category"
   ]
  },
  {
   "cell_type": "code",
   "execution_count": null,
   "metadata": {},
   "outputs": [],
   "source": [
    "f, axes = plt.subplots(\n",
    "            nrows=4, ncols=5, figsize=(16, 9),\n",
    "            subplot_kw={'projection': ccrs.NorthPolarStereo(central_longitude=315)}\n",
    "            )\n",
    "\n",
    "seasons = ['DJF', 'MAM', 'JJA', 'SON']\n",
    "\n",
    "levels = [0, 1, 5, 10, 20, 30]\n",
    "colors = [(247/255, 247/255, 247/255)] \n",
    "colors += sns.color_palette('GnBu', len(levels) - 2)\n",
    "colors += [(106/255, 61/255, 154/255)]\n",
    "\n",
    "\n",
    "for l, var in enumerate(obs_plotvars):\n",
    "    p = ((obs_lgtrain[var] / ds_obs['counts'] * 100)\n",
    "         .mean('time')\n",
    "         .plot.pcolormesh(\n",
    "             ax=axes[l, 0], transform=ccrs.PlateCarree(), add_colorbar=False, add_labels=False,\n",
    "             levels=levels, colors=colors)\n",
    "    )\n",
    "\n",
    "    for i, x in enumerate(seasons):\n",
    "        ((obs_lgtrain[var] / ds_obs['counts'] * 100)\n",
    "        .groupby('time.season')\n",
    "        .mean('time')\n",
    "        .sel(season=x)\n",
    "        .plot.pcolormesh(\n",
    "            ax=axes[l, i+1], transform=ccrs.PlateCarree(), add_colorbar=False, add_labels=False,\n",
    "            levels=levels, colors=colors)\n",
    "        )\n",
    "        \n",
    "        axes[l, 0].text(-0.15, 0.5, 'Rain', fontsize=22,\n",
    "                rotation='vertical', ha='center', va='center', transform=axes[l, 0].transAxes)\n",
    "      \n",
    "for ax in axes.flat:\n",
    "    ax.coastlines(linewidth=2)\n",
    "    ax.set_extent([295, 335, 57, 84])\n",
    "    ax.background_patch.set_facecolor('gray')\n",
    "    \n",
    "cb_ax = f.add_axes([0.93, 0.161, 0.025, 0.68])\n",
    "cb = f.colorbar(p, cax=cb_ax, extend='max', spacing='proportional')\n",
    "cb.ax.set_ylabel('Frequency [%]')\n",
    "\n",
    "\n",
    "for ax, xlab in zip(axes[0, :], ['Annual', 'DJF', 'MAM', 'JJA', 'SON']):\n",
    "    ax.text(0.5, 1.03, xlab, fontsize=18, transform=ax.transAxes, ha='center', va='bottom')\n",
    "\n",
    "\n",
    "f.savefig('../figures/comps2/Supp_1_mapgrid-cloudsat-allvars.png',\n",
    "         bbox_extra_artists=[ax for l in f.axes], bbox_inches='tight')"
   ]
  },
  {
   "cell_type": "markdown",
   "metadata": {},
   "source": [
    "---\n",
    "### Supp to Fig 3\n",
    "Exploring topography distributions"
   ]
  },
  {
   "cell_type": "code",
   "execution_count": 29,
   "metadata": {},
   "outputs": [],
   "source": [
    "indir_1km = '/glade/work/mcamron/Drew_GrIS_masks/Icemask_Topo_Iceclasses_lon_lat_average_1km_GrIS.nc'\n",
    "indir_1km_mask = '/glade/work/mcamron/Drew_GrIS_masks/Icemask_orig.nc'\n",
    "ds_1km = xr.open_dataset(indir_1km)\n",
    "ds_1km = ds_1km.assign_coords(lon=ds_1km['LON']).assign_coords(lat=ds_1km['LAT'])\n",
    "mask_1km = xr.open_dataarray(indir_1km_mask)\n",
    "w_1km = np.ones_like(ds_1km['Topography']) / float(ds_1km['Topography'].count())"
   ]
  },
  {
   "cell_type": "code",
   "execution_count": 36,
   "metadata": {
    "scrolled": false
   },
   "outputs": [
    {
     "data": {
      "image/png": "[encoded data removed]",
      "text/plain": [
       "<Figure size 864x648 with 1 Axes>"
      ]
     },
     "metadata": {},
     "output_type": "display_data"
    }
   ],
   "source": [
    "f, ax = plt.subplots(figsize=(12, 9))\n",
    "\n",
    "_ = ((ds_1km['Topography'].where(mask_1km > 0))\n",
    "     .plot.hist(ax=ax, bins=bins, histtype='stepfilled', density=True,\n",
    "                linewidth=2, label='GIMP (1km)', alpha=0.5))\n",
    "_ = ((obs_mask['Topography'].where(obs_mask['mask'] > 0))\n",
    "     .plot.hist(ax=ax, bins=bins, histtype='step', density=True,\n",
    "                linewidth=2, label='CloudSat/GIMP'))\n",
    "_ = ((model_mask['Topography'].where(model_mask['mask'] > 0))\n",
    "     .plot.hist(ax=ax, bins=bins, histtype='step', density=True,\n",
    "                linewidth=2, label='CESM/GIMP'))\n",
    "_ = ((topo_cesm.where(model_mask['mask'] > 0))\n",
    "     .plot.hist(ax=ax, bins=bins, histtype='step', density=True,\n",
    "                linewidth=2, label='CESM original'))\n",
    "\n",
    "ax.legend(loc='upper left')\n",
    "ax.set_ylabel('Fraction of occurrence')\n",
    "ax.set_xlabel('Elevation [m]')\n",
    "ax.set_title('')\n",
    "\n",
    "f.savefig('../figures/comps2/Supp_3_topo-hist.png', bbox_inches='tight')"
   ]
  },
  {
   "cell_type": "code",
   "execution_count": null,
   "metadata": {
    "scrolled": false
   },
   "outputs": [],
   "source": [
    "f, ax = plt.subplots(figsize=(8, 6))\n",
    "\n",
    "_ = ((model_mask['Topography'] * model_mask['mask'].where(model_mask['mask'] > 0))\n",
    "     .plot.hist(ax=ax, bins=bins, histtype='stepfilled', alpha=0.5,\n",
    "                linewidth=2, label='CESM regrid'))\n",
    "_ = ((topo_cesm * model_mask['mask'].where(model_mask['mask'] > 0))\n",
    "     .plot.hist(ax=ax, bins=bins, histtype='step',\n",
    "                linewidth=2, label='CESM input'))\n",
    "\n",
    "ax.legend(loc='upper left')\n",
    "ax.set_title('')\n",
    "\n",
    "f.savefig('../figures/comps2/Supp_3_topo_1km-vs-cesm.png', bbox_inches='tight')"
   ]
  },
  {
   "cell_type": "code",
   "execution_count": null,
   "metadata": {},
   "outputs": [],
   "source": [
    "f, axes = plt.subplots(\n",
    "            ncols=4, figsize=(12, 9),\n",
    "            subplot_kw={'projection': ccrs.NorthPolarStereo(central_longitude=315)})\n",
    "\n",
    "levels = bins\n",
    "p = (ds_1km['Topography'].where(mask_1km > 0)\n",
    "     .plot.pcolormesh(x='lon', y='lat', ax=axes[0], transform=ccrs.PlateCarree(), add_colorbar=False, add_labels=False,\n",
    "                     levels=levels))\n",
    "_ = (obs_mask['Topography'].where(obs_mask['mask'] > 0)\n",
    "     .plot.pcolormesh(ax=axes[1], transform=ccrs.PlateCarree(), add_colorbar=False, add_labels=False,\n",
    "                     levels=levels))\n",
    "_ = (model_mask['Topography'].where(model_mask['mask'] > 0)\n",
    "     .plot.pcolormesh(ax=axes[2], transform=ccrs.PlateCarree(), add_colorbar=False, add_labels=False,\n",
    "                     levels=levels))\n",
    "_ = (topo_cesm.where(model_mask['mask'] > 0)\n",
    "     .plot.pcolormesh(ax=axes[3], transform=ccrs.PlateCarree(), add_colorbar=False, add_labels=False,\n",
    "                     levels=levels))\n",
    "\n",
    "titles = ['1km original', '1km-cloudsat', '1km-cesm', 'USGS gtopo30']\n",
    "for i, ax in enumerate(axes.flat):\n",
    "    ax.coastlines(linewidth=2)\n",
    "    ax.set_extent([303, 330, 57, 84])\n",
    "    ax.set_title(titles[i])\n",
    "\n",
    "plt.tight_layout()\n",
    "    \n",
    "cb_ax = f.add_axes([1.005, 0.3, 0.025, 0.4])\n",
    "cb = f.colorbar(p, cax=cb_ax)\n",
    "\n",
    "f.savefig('../figures/comps2/Supp_3_topo-maps.png', bbox_inches='tight')"
   ]
  },
  {
   "cell_type": "code",
   "execution_count": null,
   "metadata": {},
   "outputs": [],
   "source": [
    "print('Max abs. topo difference: %.f m'\n",
    "      % (abs((topo_cesm - model_mask['Topography']).where(model_mask['mask'] > 0)).max().values))"
   ]
  },
  {
   "cell_type": "code",
   "execution_count": null,
   "metadata": {},
   "outputs": [],
   "source": [
    "f, ax = plt.subplots(\n",
    "            figsize=(12, 9),\n",
    "            subplot_kw={'projection': ccrs.NorthPolarStereo(central_longitude=315)})\n",
    "\n",
    "levels = [-1000, -800, -600, -400, -200, -50, 50, 200, 400, 600, 800, 1000]\n",
    "colors = sns.color_palette('RdBu', len(levels)+1)\n",
    "\n",
    "p = ((topo_cesm - model_mask['Topography']).where(model_mask['mask'] > 0)\n",
    "     .plot.pcolormesh(ax=ax, transform=ccrs.PlateCarree(), add_colorbar=False, add_labels=False,\n",
    "                      levels=levels, colors=colors))\n",
    "\n",
    "ax.coastlines(linewidth=2)\n",
    "ax.set_extent([303, 330, 57, 84])\n",
    "    \n",
    "cb = plt.colorbar(p, extend='min', spacing='proportional', ticks=[-1000, -600, -200, 0, 200, 600, 1000])\n",
    "\n",
    "ax.set_title('CAM input - 1km regrid')\n",
    "\n",
    "f.savefig('../figures/comps2/Supp_3_topo-usgs-bias.png', bbox_inches='tight')"
   ]
  },
  {
   "cell_type": "code",
   "execution_count": null,
   "metadata": {},
   "outputs": [],
   "source": [
    "obs_elev = np.zeros((len(obs_plotvars), (len(bins)-1)))\n",
    "for i, var in enumerate(obs_plotvars):\n",
    "    obs_elev[i,:] = ((obs_lgtrain[var] / ds_obs['counts'] * 100 * obs_mask['cell_area'])\n",
    "                     .mean('time')\n",
    "                     .where(obs_mask['mask'] > 0)\n",
    "                     .groupby_bins(obs_mask['Topography'], bins, right=False)\n",
    "                     .sum(dim=xr.ALL_DIMS) /\n",
    "                     (obs_mask['cell_area'])\n",
    "                     .where(obs_mask['mask'] > 0)\n",
    "                     .groupby_bins(obs_mask['Topography'], bins, right=False)\n",
    "                     .sum(dim=xr.ALL_DIMS)\n",
    "                    ).values    "
   ]
  },
  {
   "cell_type": "code",
   "execution_count": null,
   "metadata": {},
   "outputs": [],
   "source": [
    "f, axes = plt.subplots(2, figsize=(12, 10), sharex=True)\n",
    "axy=axes[0].twinx()\n",
    "\n",
    "for i, label in enumerate(obs_vnames):\n",
    "    if 'snow' in label.lower():\n",
    "        axes[0].plot((bins[:-1]+125), obs_elev[i, :], color=sns.color_palette('Set2')[2], linestyle=obs_lstyle[i], label=label)\n",
    "    else:\n",
    "        axy.plot((bins[:-1]+125), obs_elev[i, :], color=sns.color_palette('Set2')[0], linestyle=obs_lstyle[i], label=label)\n",
    "\n",
    "    \n",
    "axes[1].plot(\n",
    "    bins[:-1]+125, (obs_mask['cell_area'].where(obs_mask['mask'] > 0).groupby_bins(obs_mask['Topography'], bins=bins, right=False).sum() / 10**6),\n",
    "    color=sns.color_palette('Set2')[1])\n",
    "\n",
    "f.subplots_adjust(hspace=0)\n",
    "\n",
    "\n",
    "lines, labels = axes[0].get_legend_handles_labels()\n",
    "linesy, labelsy = axy.get_legend_handles_labels()\n",
    "\n",
    "axes[0].legend(lines+linesy, labels+labelsy, bbox_to_anchor=(1.3, -0.3), borderaxespad=0, frameon=False)\n",
    "#axy.legend(bbox_to_anchor=(1.4, -0.6), borderaxespad=0, frameon=False)\n",
    "\n",
    "axes[0].set_ylabel('Mean snow\\nfrequency [%]', color=sns.color_palette('Set2')[2], labelpad=33)\n",
    "axes[0].tick_params('y', colors=sns.color_palette('Set2')[2])\n",
    "\n",
    "axy.set_ylabel('Mean rain\\nfrequency [%]', color=sns.color_palette('Set2')[0], labelpad=24)\n",
    "axy.tick_params('y', colors=sns.color_palette('Set2')[0])\n",
    "\n",
    "axes[1].set_ylabel('Grid cell area [km$^2$]', color=sns.color_palette('Set2')[1])\n",
    "axes[1].tick_params('y', colors=sns.color_palette('Set2')[1])\n",
    "axes[1].set_title('')\n",
    "\n",
    "f.savefig('../figures/comps2/Supp_3_elev-dist-obs-allvars.png', bbox_inches='tight')"
   ]
  },
  {
   "cell_type": "markdown",
   "metadata": {},
   "source": [
    "---\n",
    "### Supp to Fig 4\n",
    "Maps of CESM 1 `present` (non-bias)."
   ]
  },
  {
   "cell_type": "code",
   "execution_count": null,
   "metadata": {
    "scrolled": false
   },
   "outputs": [],
   "source": [
    "f, axes = plt.subplots(\n",
    "            nrows=2, ncols=5, figsize=(16, 9),\n",
    "            subplot_kw={'projection': ccrs.NorthPolarStereo(central_longitude=315)})\n",
    "\n",
    "levels = [0, 1, 5, 10, 20, 30, 40, 50]\n",
    "colors = [(247/255, 247/255, 247/255)] \n",
    "colors += sns.color_palette('GnBu', len(levels) - 2)\n",
    "colors += [(106/255, 61/255, 154/255)]\n",
    "\n",
    "p = (snow_pres\n",
    "     .mean('time')\n",
    "     .plot.pcolormesh(\n",
    "     ax=axes[0, 0], transform=ccrs.PlateCarree(), add_colorbar=False, add_labels=False,\n",
    "     levels=levels, colors=colors)\n",
    ")\n",
    "\n",
    "for i, x in enumerate(seasons):\n",
    "    (snow_pres\n",
    "    .groupby('time.season')\n",
    "    .mean('time')\n",
    "    .sel(season=x)\n",
    "    .plot.pcolormesh(\n",
    "        ax=axes[0, i+1], transform=ccrs.PlateCarree(), add_colorbar=False, add_labels=False,\n",
    "        levels=levels, colors=colors)\n",
    "    )\n",
    "    \n",
    "(rain_pres\n",
    " .mean('time')\n",
    " .plot.pcolormesh(\n",
    "     ax=axes[1, 0], transform=ccrs.PlateCarree(), add_colorbar=False, add_labels=False,\n",
    "     levels=levels, colors=colors)\n",
    ")\n",
    "\n",
    "for i, x in enumerate(seasons):\n",
    "    (rain_pres\n",
    "    .groupby('time.season')\n",
    "    .mean('time')\n",
    "    .sel(season=x)\n",
    "    .plot.pcolormesh(\n",
    "        ax=axes[1, i+1], transform=ccrs.PlateCarree(), add_colorbar=False, add_labels=False,\n",
    "        levels=levels, colors=colors)\n",
    "    )\n",
    "        \n",
    "for ax in axes.flat:\n",
    "    ax.coastlines(linewidth=2)\n",
    "    ax.set_extent([295, 335, 57, 84])\n",
    "\n",
    "#plt.tight_layout()\n",
    "    \n",
    "cb_ax = f.add_axes([0.93, 0.161, 0.025, 0.68])\n",
    "cb = f.colorbar(p, cax=cb_ax, extend='max', spacing='proportional')\n",
    "cb.ax.set_ylabel('Frequency [%]')\n",
    "    \n",
    "ts = axes[0, 0].text(-0.1, 0.5, 'Snow', fontsize=28, \n",
    "                rotation='vertical', ha='center', va='center', transform=axes[0, 0].transAxes)\n",
    "tr = axes[1, 0].text(-0.1, 0.5, 'Rain', fontsize=28,\n",
    "                rotation='vertical', ha='center', va='center', transform=axes[1, 0].transAxes)\n",
    "\n",
    "for ax, xlab in zip(axes[0, :], ['Annual', 'DJF', 'MAM', 'JJA', 'SON']):\n",
    "    ax.text(0.5, 1.03, xlab, fontsize=18, transform=ax.transAxes, ha='center', va='bottom')\n",
    "\n",
    "\n",
    "f.savefig('../figures/comps2/Supp_4_mapgrid-present.png',\n",
    "         bbox_extra_artists=[ax for l in f.axes]+[ts, tr], bbox_inches='tight')"
   ]
  },
  {
   "cell_type": "markdown",
   "metadata": {},
   "source": [
    "---\n",
    "### Supp to Fig 5\n",
    "`CESM present` seasonal cycle biases."
   ]
  },
  {
   "cell_type": "code",
   "execution_count": null,
   "metadata": {},
   "outputs": [],
   "source": [
    "f, ax = plt.subplots(figsize=(21, 9))\n",
    "\n",
    "model_colors = [0, 2]\n",
    "for name, style, color in zip(model_vnames, model_lstyle, model_colors):\n",
    "    ((\n",
    "        ((rain_pres.where(model_mask['mask'] > 0) * model_mask['cell_area'])\n",
    "         .sum('lat').sum('lon') / model_mask['cell_area'].where(model_mask['mask'] > 0).sum()) -\n",
    "        ((rain_obs.where(obs_mask['mask'] > 0) * obs_mask['cell_area'])\n",
    "         .sum('latitude').sum('longitude') / obs_mask['cell_area'].where(obs_mask['mask'] > 0).sum()))\n",
    "        .groupby('time.month')\n",
    "        .mean('time', skipna=True)\n",
    "        .plot(ax=ax, label='Rain', color=sns.color_palette('Set2')[0])\n",
    "    )\n",
    "    \n",
    "    ((\n",
    "        ((snow_pres.where(model_mask['mask'] > 0) * model_mask['cell_area'])\n",
    "         .sum('lat').sum('lon') / model_mask['cell_area'].where(model_mask['mask'] > 0).sum()) -\n",
    "        ((snow_obs.where(obs_mask['mask'] > 0) * obs_mask['cell_area'])\n",
    "         .sum('latitude').sum('longitude') / obs_mask['cell_area'].where(obs_mask['mask'] > 0).sum()))\n",
    "        .groupby('time.month')\n",
    "        .mean('time', skipna=True)\n",
    "        .plot(ax=ax, label='Snow', color=sns.color_palette('Set2')[2])\n",
    "    )\n",
    "    \n",
    "ax.autoscale(enable=True)    \n",
    "\n",
    "ax.legend(loc=2, bbox_to_anchor=(0.05, 0.45), ncol=2, frameon=False)\n",
    "plt.xticks(np.arange(13), ['', 'J', 'F', 'M', 'A', 'M', 'J', 'J', 'A', 'S', 'O', 'N', 'D'])\n",
    "ax.set_ylabel('GrIS mean frequency difference [%]')\n",
    "ax.set_xlabel('')\n",
    "\n",
    "f.savefig('../figures/comps2/Supp_5_GIS-presobs-bias-mean-cycle.png', bbox_inches='tight')"
   ]
  },
  {
   "cell_type": "markdown",
   "metadata": {},
   "source": [
    "---\n",
    "### Supp to Fig 6\n",
    "Individual distributions and non-reduced investigation of frequency vs accumulation."
   ]
  },
  {
   "cell_type": "code",
   "execution_count": null,
   "metadata": {},
   "outputs": [],
   "source": [
    "df_fig6_nomean = ds_fig6.where((model_mask['mask'] > 0), drop=True).to_dataframe().reset_index().dropna()"
   ]
  },
  {
   "cell_type": "code",
   "execution_count": null,
   "metadata": {},
   "outputs": [],
   "source": [
    "p = sns.distplot(df_fig6_nomean['PRECSL'])"
   ]
  },
  {
   "cell_type": "code",
   "execution_count": null,
   "metadata": {},
   "outputs": [],
   "source": [
    "p = sns.jointplot(x='PRECSL', y='RADAR_SNOW', data=df_fig6_nomean, kind='hex', xlim=[-1, 9], ylim=[-1, 31])"
   ]
  },
  {
   "cell_type": "code",
   "execution_count": null,
   "metadata": {},
   "outputs": [],
   "source": [
    "p = sns.jointplot(x='PRECSL', y='RADAR_SNOW', data=df_fig6_nomean, kind='kde', xlim=[-1, 6], ylim=[-1, 31])"
   ]
  },
  {
   "cell_type": "markdown",
   "metadata": {},
   "source": [
    "#### Breakdown of contribution of non-snow to `PRECL`"
   ]
  },
  {
   "cell_type": "code",
   "execution_count": null,
   "metadata": {},
   "outputs": [],
   "source": [
    "frac_precsl = abs(ds_fig6['PRECL'].where(model_mask['mask'] > 0).sum().values - ds_fig6['PRECSL'].where(model_mask['mask'] > 0).sum().values) / ds_fig6['PRECL'].where(model_mask['mask'] > 0).sum().values * 100\n",
    "print('Percentage of large scale precip that is non-snow: %.02f' % frac_precsl)"
   ]
  },
  {
   "cell_type": "code",
   "execution_count": null,
   "metadata": {},
   "outputs": [],
   "source": [
    "with sns.axes_style(style='ticks'):\n",
    "    with sns.plotting_context('notebook'):\n",
    "        f, ax = plt.subplots()\n",
    "        sns.regplot(x=(df_fig6['PRECL'] - df_fig6['PRECSL']), y=df_fig6['RADAR_LGTRAIN'])\n",
    "                \n",
    "ax.set_xlabel('PRECL - PRECSL [mm/day]')\n",
    "ax.set_ylabel('Light rain frequency [%]')\n",
    "f.savefig('../figures/comps2/Supp_6_rain-vs-preclrain.png')"
   ]
  },
  {
   "cell_type": "markdown",
   "metadata": {},
   "source": [
    "#### `CESM future` frequency-accumulation"
   ]
  },
  {
   "cell_type": "code",
   "execution_count": null,
   "metadata": {},
   "outputs": [],
   "source": [
    "# Converting PREC* vars from m/s to mm/day\n",
    "ds_supp6 = xr.merge([(ds_fut[precvars] * 1000 * 86400), \n",
    "                    ds_fut[radarvars]])"
   ]
  },
  {
   "cell_type": "code",
   "execution_count": null,
   "metadata": {
    "scrolled": true
   },
   "outputs": [],
   "source": [
    "df_supp6 = ds_supp6.where((model_mask['mask'] > 0), drop=True).mean('time').to_dataframe().reset_index().dropna()"
   ]
  },
  {
   "cell_type": "code",
   "execution_count": null,
   "metadata": {
    "scrolled": false
   },
   "outputs": [],
   "source": [
    "f, axes = plt.subplots(len(radarvars), len(precvars), figsize=(24, 24), sharex=True, sharey=True)\n",
    "\n",
    "for iy, y in enumerate(radarvars):\n",
    "    for ix, x in enumerate(precvars):\n",
    "        sns.regplot(x=x, y=y, data=df_supp6, ax=axes[iy, ix], logx=True)\n",
    "        \n",
    "for ax in axes.flat:\n",
    "    ax.set_ylabel('')\n",
    "    ax.set_xlabel('')\n",
    "    ax.set_ylim([-4, 44])\n",
    "    \n",
    "for i, x in enumerate(precvars):\n",
    "    axes[-1, i].set_xlabel(x+' [mm/day]')\n",
    "    \n",
    "for i, y in enumerate(radarvars):\n",
    "    axes[i, 0].set_ylabel(y+' [%]')\n",
    "    \n",
    "f.tight_layout()"
   ]
  },
  {
   "cell_type": "markdown",
   "metadata": {},
   "source": [
    "---\n",
    "### Supp to Fig 7\n",
    "`CESM future - present` binned by USGS."
   ]
  },
  {
   "cell_type": "markdown",
   "metadata": {},
   "source": [
    "`CESM present` elevation distributions without Obs, with topo differences"
   ]
  },
  {
   "cell_type": "code",
   "execution_count": null,
   "metadata": {},
   "outputs": [],
   "source": [
    "f, axes = plt.subplots(2, figsize=(12, 10), sharex=True)\n",
    "\n",
    "axes[0].plot((bins[:-1]+125), snow_pres_elev, color=sns.color_palette('Set2')[2], label='Snow')\n",
    "axy = axes[0].twinx()\n",
    "axy.plot((bins[:-1]+125), rain_pres_elev, color=sns.color_palette('Set2')[0], label='Rain')\n",
    "\n",
    "axes[1].plot(\n",
    "    bins[:-1]+125, (model_mask['cell_area'].where(model_mask['mask'] > 0).groupby_bins(model_mask['Topography'], bins=bins, right=False).sum() / 10**6),\n",
    "    color=sns.color_palette('Set2')[1])\n",
    "\n",
    "f.subplots_adjust(hspace=0)\n",
    "\n",
    "axes[0].set_ylabel('Mean snow\\nfrequency [%]', color=sns.color_palette('Set2')[2], labelpad=33)\n",
    "axes[0].tick_params('y', colors=sns.color_palette('Set2')[2])\n",
    "#axes[0].set_ylim([16.5, 30.5])\n",
    "\n",
    "axy.set_ylabel('Mean rain\\nfrequency [%]', color=sns.color_palette('Set2')[0], labelpad=24)\n",
    "axy.tick_params('y', colors=sns.color_palette('Set2')[0])\n",
    "#axy.set_ylim([-0.5, 9.5])\n",
    "\n",
    "axes[1].set_ylabel('Grid cell area [km$^2$]', color=sns.color_palette('Set2')[1])\n",
    "axes[1].tick_params('y', colors=sns.color_palette('Set2')[1])\n",
    "axes[1].set_title('')\n",
    "\n",
    "f.savefig('../figures/comps2/Supp_7_elev-dist-pres-1km.png', bbox_inches='tight')"
   ]
  },
  {
   "cell_type": "code",
   "execution_count": null,
   "metadata": {},
   "outputs": [],
   "source": [
    "snow_pres_elev_usgs = snow_pres.where(model_mask['mask'] > 0).groupby_bins(topo_cesm, bins, right=False).mean().values\n",
    "rain_pres_elev_usgs = rain_pres.where(model_mask['mask'] > 0).groupby_bins(topo_cesm, bins, right=False).mean().values"
   ]
  },
  {
   "cell_type": "code",
   "execution_count": null,
   "metadata": {},
   "outputs": [],
   "source": [
    "f, axes = plt.subplots(2, figsize=(12, 10), sharex=True)\n",
    "\n",
    "axes[0].plot((bins[:-1]+125), snow_pres_elev_usgs, color=sns.color_palette('Set2')[2], label='Snow')\n",
    "axy = axes[0].twinx()\n",
    "axy.plot((bins[:-1]+125), rain_pres_elev_usgs, color=sns.color_palette('Set2')[0], label='Rain')\n",
    "\n",
    "axes[1].plot(\n",
    "    bins[:-1]+125, (model_mask['cell_area'].where(model_mask['mask'] > 0).groupby_bins(topo_cesm, bins=bins, right=False).sum() / 10**6),\n",
    "    color=sns.color_palette('Set2')[1])\n",
    "\n",
    "f.subplots_adjust(hspace=0)\n",
    "\n",
    "axes[0].set_ylabel('Mean snow\\nfrequency [%]', color=sns.color_palette('Set2')[2], labelpad=33)\n",
    "axes[0].tick_params('y', colors=sns.color_palette('Set2')[2])\n",
    "#axes[0].set_ylim([11.5, 24.5])\n",
    "\n",
    "axy.set_ylabel('Mean rain\\nfrequency [%]', color=sns.color_palette('Set2')[0], labelpad=24)\n",
    "axy.tick_params('y', colors=sns.color_palette('Set2')[0])\n",
    "#axy.set_ylim([-0.5, 4.5])\n",
    "\n",
    "axes[1].set_ylabel('Grid cell area [km$^2$]', color=sns.color_palette('Set2')[1])\n",
    "axes[1].tick_params('y', colors=sns.color_palette('Set2')[1])\n",
    "axes[1].set_title('')\n",
    "\n",
    "f.savefig('../figures/comps2/Supp_7_elev-dist-pres-usgs.png', bbox_inches='tight')"
   ]
  },
  {
   "cell_type": "code",
   "execution_count": null,
   "metadata": {},
   "outputs": [],
   "source": [
    "snow_fut_elev_usgs = snow_fut.where(model_mask['mask'] > 0).groupby_bins(topo_cesm, bins, right=False).mean().values\n",
    "rain_fut_elev_usgs = rain_fut.where(model_mask['mask'] > 0).groupby_bins(topo_cesm, bins, right=False).mean().values"
   ]
  },
  {
   "cell_type": "code",
   "execution_count": null,
   "metadata": {},
   "outputs": [],
   "source": [
    "f, axes = plt.subplots(2, figsize=(12, 10), sharex=True)\n",
    "\n",
    "axes[0].plot((bins[:-1]+125), snow_pres_elev_usgs, color='k', label='CESM present', linestyle='dashed')\n",
    "axes[0].plot((bins[:-1]+125), snow_fut_elev_usgs, color='k', label='CESM future')\n",
    "\n",
    "axes[0].plot((bins[:-1]+125), snow_pres_elev_usgs, color=sns.color_palette('Set2')[2], linestyle='dashed')\n",
    "axes[0].plot((bins[:-1]+125), snow_fut_elev_usgs, color=sns.color_palette('Set2')[2])\n",
    "\n",
    "axy = axes[0].twinx()\n",
    "axy.plot((bins[:-1]+125), rain_pres_elev, color=sns.color_palette('Set2')[0], label='CESM present', linestyle='dashed')\n",
    "axy.plot((bins[:-1]+125), rain_fut_elev, color=sns.color_palette('Set2')[0], label='CESM future')\n",
    "\n",
    "axes[1].plot(\n",
    "    bins[:-1]+125, (model_mask['cell_area'].where(model_mask['mask'] > 0).groupby_bins(topo_cesm, bins=bins, right=False).sum() / 10**6),\n",
    "    color=sns.color_palette('Set2')[1])\n",
    "\n",
    "f.subplots_adjust(hspace=0)\n",
    "\n",
    "axes[0].legend(loc='center right')\n",
    "axes[0].set_ylabel('Mean snow\\nfrequency [%]', color=sns.color_palette('Set2')[2], labelpad=33)\n",
    "axes[0].tick_params('y', colors=sns.color_palette('Set2')[2])\n",
    "#axes[0].set_ylim([11.5, 24.5])\n",
    "\n",
    "axy.set_ylabel('Mean rain\\nfrequency [%]', color=sns.color_palette('Set2')[0], labelpad=24)\n",
    "axy.tick_params('y', colors=sns.color_palette('Set2')[0])\n",
    "#axy.set_ylim([-0.5, 4.5])\n",
    "\n",
    "axes[1].set_ylabel('Grid cell area [km$^2$]', color=sns.color_palette('Set2')[1])\n",
    "axes[1].tick_params('y', colors=sns.color_palette('Set2')[1])\n",
    "axes[1].set_title('')\n",
    "\n",
    "f.savefig('../figures/comps2/Supp_7_elev-dist-futpres-usgs.png', bbox_inches='tight')"
   ]
  },
  {
   "cell_type": "code",
   "execution_count": null,
   "metadata": {},
   "outputs": [],
   "source": [
    "pres_elev = np.zeros((len(model_vars), (len(bins)-1)))\n",
    "for i, var in enumerate(model_vars):\n",
    "    pres_elev[i,:] = ds_pres[var].where(model_mask['mask'] > 0).groupby_bins(model_mask['Topography'], bins, right=False).mean().values"
   ]
  },
  {
   "cell_type": "code",
   "execution_count": null,
   "metadata": {},
   "outputs": [],
   "source": [
    "f, axes = plt.subplots(2, figsize=(12, 10), sharex=True)\n",
    "axy=axes[0].twinx()\n",
    "\n",
    "for i, label in enumerate(model_vnames):\n",
    "    if 'SNOW' in model_vars[i]:\n",
    "        axes[0].plot((bins[:-1]+125), pres_elev[i, :], color=sns.color_palette('Set2')[2], linestyle=model_lstyle[i], label=label)\n",
    "    else:\n",
    "        axy.plot((bins[:-1]+125), pres_elev[i, :], color=sns.color_palette('Set2')[0], linestyle=model_lstyle[i], label=label)\n",
    "\n",
    "    \n",
    "axes[1].plot(\n",
    "    bins[:-1]+125, (model_mask['cell_area'].where(model_mask['mask'] > 0).groupby_bins(model_mask['Topography'], bins=bins, right=False).sum() / 10**6),\n",
    "    color=sns.color_palette('Set2')[1])\n",
    "\n",
    "f.subplots_adjust(hspace=0)\n",
    "\n",
    "axes[0].legend(bbox_to_anchor=(1.35, -0.3), borderaxespad=0, frameon=False)\n",
    "axy.legend(bbox_to_anchor=(1.33, -0.6), borderaxespad=0, frameon=False)\n",
    "\n",
    "axes[0].set_ylabel('Mean snow\\nfrequency [%]', color=sns.color_palette('Set2')[2], labelpad=33)\n",
    "axes[0].tick_params('y', colors=sns.color_palette('Set2')[2])\n",
    "\n",
    "axy.set_ylabel('Mean rain\\nfrequency [%]', color=sns.color_palette('Set2')[0], labelpad=24)\n",
    "axy.tick_params('y', colors=sns.color_palette('Set2')[0])\n",
    "\n",
    "axes[1].set_ylabel('Grid cell area [km$^2$]', color=sns.color_palette('Set2')[1])\n",
    "axes[1].tick_params('y', colors=sns.color_palette('Set2')[1])\n",
    "axes[1].set_title('')\n",
    "\n",
    "f.savefig('../figures/comps2/Supp_3_elev-dist-pres-allvars.png', bbox_inches='tight')"
   ]
  },
  {
   "cell_type": "code",
   "execution_count": null,
   "metadata": {},
   "outputs": [],
   "source": [
    "fut_elev = np.zeros((len(model_vars), (len(bins)-1)))\n",
    "for i, var in enumerate(model_vars):\n",
    "    fut_elev[i,:] = ds_fut[var].where(model_mask['mask'] > 0).groupby_bins(model_mask['Topography'], bins, right=False).mean().values"
   ]
  },
  {
   "cell_type": "code",
   "execution_count": null,
   "metadata": {},
   "outputs": [],
   "source": [
    "f, axes = plt.subplots(2, figsize=(12, 10), sharex=True)\n",
    "axy=axes[0].twinx()\n",
    "\n",
    "for i, label in enumerate(model_vnames):\n",
    "    if 'SNOW' in model_vars[i]:\n",
    "        axes[0].plot((bins[:-1]+125), fut_elev[i, :], color=sns.color_palette('Set2')[2], linestyle=model_lstyle[i], label=label)\n",
    "    else:\n",
    "        axy.plot((bins[:-1]+125), fut_elev[i, :], color=sns.color_palette('Set2')[0], linestyle=model_lstyle[i], label=label)\n",
    "\n",
    "    \n",
    "axes[1].plot(\n",
    "    bins[:-1]+125, (model_mask['cell_area'].where(model_mask['mask'] > 0).groupby_bins(model_mask['Topography'], bins=bins, right=False).sum() / 10**6),\n",
    "    color=sns.color_palette('Set2')[1])\n",
    "\n",
    "f.subplots_adjust(hspace=0)\n",
    "\n",
    "axes[0].legend(bbox_to_anchor=(1.35, -0.3), borderaxespad=0, frameon=False)\n",
    "axy.legend(bbox_to_anchor=(1.33, -0.6), borderaxespad=0, frameon=False)\n",
    "\n",
    "axes[0].set_ylabel('Mean snow\\nfrequency [%]', color=sns.color_palette('Set2')[2], labelpad=33)\n",
    "axes[0].tick_params('y', colors=sns.color_palette('Set2')[2])\n",
    "\n",
    "axy.set_ylabel('Mean rain\\nfrequency [%]', color=sns.color_palette('Set2')[0], labelpad=24)\n",
    "axy.tick_params('y', colors=sns.color_palette('Set2')[0])\n",
    "\n",
    "axes[1].set_ylabel('Grid cell area [km$^2$]', color=sns.color_palette('Set2')[1])\n",
    "axes[1].tick_params('y', colors=sns.color_palette('Set2')[1])\n",
    "axes[1].set_title('')\n",
    "\n",
    "f.savefig('../figures/comps2/Supp_3_elev-dist-fut-allvars.png', bbox_inches='tight')"
   ]
  },
  {
   "cell_type": "markdown",
   "metadata": {},
   "source": [
    "---\n",
    "### Supp to Fig 9\n",
    "`CESM future` absolute seasonal. Add cycle relative to `CESM present`?"
   ]
  },
  {
   "cell_type": "code",
   "execution_count": null,
   "metadata": {},
   "outputs": [],
   "source": [
    "f, ax = plt.subplots(figsize=(21, 9))\n",
    "\n",
    "model_vars = ['RADAR_RAIN', 'RADAR_LGTRAIN', 'RADAR_SNOW', 'RADAR_LGTSNOW']\n",
    "model_vnames = ['Rain', 'Light rain', 'Snow', 'Light snow']\n",
    "model_lstyle = ['solid', 'dashed', 'solid', 'dashed']\n",
    "model_colors = [0, 0, 2, 2]\n",
    "for var, name, style, color in zip(model_vars, model_vnames, model_lstyle, model_colors):\n",
    "    ((\n",
    "        (ds_fut[var] * model_mask['mask'].where(model_mask['mask'] > 0) * model_mask['cell_area'])\n",
    "        .sum('lat').sum('lon') / (model_mask['mask'] * model_mask['cell_area']).sum())\n",
    "        .groupby('time.month')\n",
    "        .mean('time', skipna=True)\n",
    "        .plot(ax=ax, label=name, color=sns.color_palette('Set2')[color], linestyle=style)\n",
    "    )\n",
    "    \n",
    "ax.autoscale(enable=True)    \n",
    "\n",
    "ax.legend(loc=2, bbox_to_anchor=(0.05, 0.45), ncol=2, frameon=False)\n",
    "plt.xticks(np.arange(13), ['', 'J', 'F', 'M', 'A', 'M', 'J', 'J', 'A', 'S', 'O', 'N', 'D'])\n",
    "ax.set_ylabel('GrIS mean frequency [%]')\n",
    "ax.set_xlabel('')\n",
    "\n",
    "f.savefig('../figures/comps2/Supp_9_GIS-fut-mean-cycle.png', bbox_inches='tight')"
   ]
  }
 ],
 "metadata": {
  "kernelspec": {
   "display_name": "Python 3",
   "language": "python",
   "name": "python3"
  },
  "language_info": {
   "codemirror_mode": {
    "name": "ipython",
    "version": 3
   },
   "file_extension": ".py",
   "mimetype": "text/x-python",
   "name": "python",
   "nbconvert_exporter": "python",
   "pygments_lexer": "ipython3",
   "version": "3.6.8"
  }
 },
 "nbformat": 4,
 "nbformat_minor": 2
}
